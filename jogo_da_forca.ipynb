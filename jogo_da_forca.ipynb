{
  "nbformat": 4,
  "nbformat_minor": 0,
  "metadata": {
    "colab": {
      "provenance": [],
      "authorship_tag": "ABX9TyNaUk8INKYrxlT6N/WQA6Zm",
      "include_colab_link": true
    },
    "kernelspec": {
      "name": "python3",
      "display_name": "Python 3"
    },
    "language_info": {
      "name": "python"
    }
  },
  "cells": [
    {
      "cell_type": "markdown",
      "metadata": {
        "id": "view-in-github",
        "colab_type": "text"
      },
      "source": [
        "<a href=\"https://colab.research.google.com/github/1josehenrique/jogo_da_forca/blob/main/jogo_da_forca.ipynb\" target=\"_parent\"><img src=\"https://colab.research.google.com/assets/colab-badge.svg\" alt=\"Open In Colab\"/></a>"
      ]
    },
    {
      "cell_type": "code",
      "execution_count": null,
      "metadata": {
        "id": "bftOKjBBuRb-"
      },
      "outputs": [],
      "source": [
        "print(\"x=\" * 20)\n",
        "print(\"         Jogo da Forca em Python\")\n",
        "print(\"x=\" * 20)\n",
        "\n",
        "palavra = \"caneta\"\n",
        "digitadas = []\n",
        "chance = 5\n",
        "\n",
        "print(\"=\" * 20)\n",
        "\n",
        "while True:\n",
        "    print(\"Digite uma letra: \")\n",
        "    letra = input()\n",
        "\n",
        "    if len(letra) != 1:\n",
        "        print(\"ERRO, digite apenas uma letra\")\n",
        "        continue\n",
        "\n",
        "    if letra in digitadas:\n",
        "        print(\"Você já digitou essa letra. Tente novamente.\")\n",
        "        continue\n",
        "\n",
        "    digitadas.append(letra)\n",
        "\n",
        "    secreto_temporario = ''\n",
        "    for letra_secreta in palavra:\n",
        "        if letra_secreta in digitadas:\n",
        "            secreto_temporario += letra_secreta\n",
        "        else:\n",
        "            secreto_temporario += '*'\n",
        "\n",
        "    if secreto_temporario == palavra:\n",
        "        print(\"Você venceu e escapou da forca!\")\n",
        "        break\n",
        "\n",
        "    print(f\"A palavra está assim: {secreto_temporario}\")\n",
        "\n",
        "    if letra not in palavra:\n",
        "        chance -= 1\n",
        "\n",
        "    if chance <= 0:\n",
        "        print(\"Você perdeu! FORCA!\")\n",
        "        break\n",
        "\n",
        "    print(\"Você ainda tem {} chances.\".format(chance))\n",
        "    print(\"\")"
      ]
    }
  ]
}